{
 "cells": [
  {
   "cell_type": "code",
   "execution_count": 1,
   "id": "14796b1d",
   "metadata": {},
   "outputs": [],
   "source": [
    "import pandas as pd\n",
    "import numpy as np"
   ]
  },
  {
   "cell_type": "code",
   "execution_count": 2,
   "id": "eff15b55",
   "metadata": {},
   "outputs": [
    {
     "data": {
      "text/html": [
       "<div>\n",
       "<style scoped>\n",
       "    .dataframe tbody tr th:only-of-type {\n",
       "        vertical-align: middle;\n",
       "    }\n",
       "\n",
       "    .dataframe tbody tr th {\n",
       "        vertical-align: top;\n",
       "    }\n",
       "\n",
       "    .dataframe thead th {\n",
       "        text-align: right;\n",
       "    }\n",
       "</style>\n",
       "<table border=\"1\" class=\"dataframe\">\n",
       "  <thead>\n",
       "    <tr style=\"text-align: right;\">\n",
       "      <th></th>\n",
       "      <th>Product</th>\n",
       "      <th>Rating</th>\n",
       "      <th>MRP</th>\n",
       "      <th>Feature</th>\n",
       "    </tr>\n",
       "  </thead>\n",
       "  <tbody>\n",
       "    <tr>\n",
       "      <th>0</th>\n",
       "      <td>Lenovo IdeaPad 3 Core i3 11th Gen - (8 GB/256 ...</td>\n",
       "      <td>4.2</td>\n",
       "      <td>₹36,990</td>\n",
       "      <td>Intel Core i3 Processor (11th Gen)8 GB DDR4 RA...</td>\n",
       "    </tr>\n",
       "    <tr>\n",
       "      <th>1</th>\n",
       "      <td>Lenovo IdeaPad 3 Core i3 11th Gen - (8 GB/512 ...</td>\n",
       "      <td>4.2</td>\n",
       "      <td>₹39,990</td>\n",
       "      <td>Intel Core i3 Processor (11th Gen)8 GB DDR4 RA...</td>\n",
       "    </tr>\n",
       "    <tr>\n",
       "      <th>2</th>\n",
       "      <td>ASUS VivoBook 15 (2022) Core i3 10th Gen - (8 ...</td>\n",
       "      <td>4.3</td>\n",
       "      <td>₹32,990</td>\n",
       "      <td>Intel Core i3 Processor (10th Gen)8 GB DDR4 RA...</td>\n",
       "    </tr>\n",
       "    <tr>\n",
       "      <th>3</th>\n",
       "      <td>HP Pavilion Ryzen 5 Hexa Core AMD R5-5600H - (...</td>\n",
       "      <td>4.4</td>\n",
       "      <td>₹49,990</td>\n",
       "      <td>AMD Ryzen 5 Hexa Core Processor8 GB DDR4 RAM64...</td>\n",
       "    </tr>\n",
       "    <tr>\n",
       "      <th>4</th>\n",
       "      <td>ASUS TUF Gaming F15 Core i5 10th Gen - (8 GB/5...</td>\n",
       "      <td>4.4</td>\n",
       "      <td>₹49,990</td>\n",
       "      <td>Intel Core i5 Processor (10th Gen)8 GB DDR4 RA...</td>\n",
       "    </tr>\n",
       "  </tbody>\n",
       "</table>\n",
       "</div>"
      ],
      "text/plain": [
       "                                             Product  Rating      MRP  \\\n",
       "0  Lenovo IdeaPad 3 Core i3 11th Gen - (8 GB/256 ...     4.2  ₹36,990   \n",
       "1  Lenovo IdeaPad 3 Core i3 11th Gen - (8 GB/512 ...     4.2  ₹39,990   \n",
       "2  ASUS VivoBook 15 (2022) Core i3 10th Gen - (8 ...     4.3  ₹32,990   \n",
       "3  HP Pavilion Ryzen 5 Hexa Core AMD R5-5600H - (...     4.4  ₹49,990   \n",
       "4  ASUS TUF Gaming F15 Core i5 10th Gen - (8 GB/5...     4.4  ₹49,990   \n",
       "\n",
       "                                             Feature  \n",
       "0  Intel Core i3 Processor (11th Gen)8 GB DDR4 RA...  \n",
       "1  Intel Core i3 Processor (11th Gen)8 GB DDR4 RA...  \n",
       "2  Intel Core i3 Processor (10th Gen)8 GB DDR4 RA...  \n",
       "3  AMD Ryzen 5 Hexa Core Processor8 GB DDR4 RAM64...  \n",
       "4  Intel Core i5 Processor (10th Gen)8 GB DDR4 RA...  "
      ]
     },
     "execution_count": 2,
     "metadata": {},
     "output_type": "execute_result"
    }
   ],
   "source": [
    "df = pd.read_csv(r\"C:\\Users\\sudee\\Downloads\\laptop_details.csv\")\n",
    "df.head()"
   ]
  },
  {
   "cell_type": "code",
   "execution_count": 3,
   "id": "67b08f26",
   "metadata": {},
   "outputs": [
    {
     "data": {
      "text/plain": [
       "False    423\n",
       "True     297\n",
       "dtype: int64"
      ]
     },
     "execution_count": 3,
     "metadata": {},
     "output_type": "execute_result"
    }
   ],
   "source": [
    "df.duplicated().value_counts()"
   ]
  },
  {
   "cell_type": "code",
   "execution_count": 4,
   "id": "47db47c6",
   "metadata": {},
   "outputs": [
    {
     "data": {
      "text/plain": [
       "0    36990.0\n",
       "1    39990.0\n",
       "2    32990.0\n",
       "3    49990.0\n",
       "4    49990.0\n",
       "Name: MRP, dtype: float64"
      ]
     },
     "execution_count": 4,
     "metadata": {},
     "output_type": "execute_result"
    }
   ],
   "source": [
    "df['MRP']=df['MRP'].str.replace('₹','')\n",
    "df['MRP']=df['MRP'].str.replace(',','')\n",
    "df['MRP']=df['MRP'].astype('float64')\n",
    "df['MRP'].head()"
   ]
  },
  {
   "cell_type": "code",
   "execution_count": 5,
   "id": "1ac0e267",
   "metadata": {},
   "outputs": [
    {
     "name": "stdout",
     "output_type": "stream",
     "text": [
      "Intel Core i7 Processor (11th Gen)8 GB DDR4 RAM64 bit Windows 10 Operating System512 GB SSD39.62 cm (15.6 Inch) Display2 Year Carry-In Warranty Term\n",
      "MSI Core i7 11th Gen - (8 GB/512 GB SSD/Windows 10 Home/4 GB Graphics/NVIDIA GeForce RTX 3050/144 Hz) ...\n"
     ]
    }
   ],
   "source": [
    "print(df['Feature'][100])\n",
    "print(df['Product'][100])"
   ]
  },
  {
   "cell_type": "code",
   "execution_count": 6,
   "id": "b6aa4d4c",
   "metadata": {},
   "outputs": [],
   "source": [
    "import re\n",
    "pattern=r'(?:AMD|Intel|M1|Apple|Qualcomm Snapdragon)[\\s\\w]+Processor'\n",
    "# pattern=r'[\\w]+Processor'\n",
    "\n",
    "df['Processor'] = df['Feature'].apply(lambda x : re.findall(pattern, x))"
   ]
  },
  {
   "cell_type": "code",
   "execution_count": 7,
   "id": "13dd0fee",
   "metadata": {},
   "outputs": [
    {
     "data": {
      "text/plain": [
       "[Intel Core i5 Processor]                                 157\n",
       "[Intel Core i3 Processor]                                 133\n",
       "[AMD Ryzen 9 Octa Core Processor]                          87\n",
       "[AMD Ryzen 7 Octa Core Processor]                          80\n",
       "[Intel Core i7 Processor]                                  56\n",
       "[AMD Ryzen 5 Hexa Core Processor]                          52\n",
       "[AMD Ryzen 3 Dual Core Processor]                          43\n",
       "[AMD Ryzen 5 Quad Core Processor]                          37\n",
       "[Intel Celeron Dual Core Processor]                        20\n",
       "[Intel Core i9 Processor]                                  11\n",
       "[Apple M1 Processor]                                        7\n",
       "[Apple M1 Pro Processor]                                    6\n",
       "[Apple M2 Processor]                                        5\n",
       "[AMD Ryzen 3 Quad Core Processor]                           4\n",
       "[Intel Celeron Quad Core Processor]                         3\n",
       "[Intel Pentium Silver Processor]                            3\n",
       "[Intel Pentium Quad Core Processor]                         3\n",
       "[Intel Evo Core i5 Processor, Intel Core i5 Processor]      2\n",
       "[AMD Athlon Dual Core Processor]                            2\n",
       "[Intel OptaneIntel Core i3 Processor]                       2\n",
       "[AMD Ryzen 5 Dual Core Processor]                           2\n",
       "[AMD Ryzen 7 Quad Core Processor]                           1\n",
       "[Qualcomm Snapdragon 7c Gen 2 Processor]                    1\n",
       "[Apple M1 Max Processor]                                    1\n",
       "[AMD Dual Core Processor]                                   1\n",
       "[AMD Ryzen 3 Hexa Core Processor]                           1\n",
       "Name: Processor, dtype: int64"
      ]
     },
     "execution_count": 7,
     "metadata": {},
     "output_type": "execute_result"
    }
   ],
   "source": [
    "df['Processor'].value_counts()"
   ]
  },
  {
   "cell_type": "code",
   "execution_count": 8,
   "id": "a7fb3293",
   "metadata": {},
   "outputs": [],
   "source": [
    "df.Processor = df.Processor.apply(lambda x : ''.join(x))"
   ]
  },
  {
   "cell_type": "code",
   "execution_count": 9,
   "id": "c816c78e",
   "metadata": {},
   "outputs": [],
   "source": [
    "pattern=r'^(?:AMD Ryzen|Intel|Apple)'\n",
    "df['Processor_type'] = df['Processor'].apply(lambda x : re.findall(pattern, x))"
   ]
  },
  {
   "cell_type": "code",
   "execution_count": 10,
   "id": "e6cf6a36",
   "metadata": {},
   "outputs": [
    {
     "data": {
      "text/plain": [
       "[Intel]        390\n",
       "[AMD Ryzen]    307\n",
       "[Apple]         19\n",
       "[]               4\n",
       "Name: Processor_type, dtype: int64"
      ]
     },
     "execution_count": 10,
     "metadata": {},
     "output_type": "execute_result"
    }
   ],
   "source": [
    "df['Processor_type'].value_counts()"
   ]
  },
  {
   "cell_type": "code",
   "execution_count": 11,
   "id": "b9a63317",
   "metadata": {},
   "outputs": [
    {
     "data": {
      "text/plain": [
       "Intel        390\n",
       "AMD Ryzen    307\n",
       "Apple         19\n",
       "Name: Processor_type, dtype: int64"
      ]
     },
     "execution_count": 11,
     "metadata": {},
     "output_type": "execute_result"
    }
   ],
   "source": [
    "df.Processor_type = df.Processor_type.apply(lambda x : ''.join(x))\n",
    "index_names = df[ df['Processor_type'] ==''].index\n",
    "\n",
    "df.drop(index_names, inplace = True)\n",
    "df['Processor_type'].value_counts()"
   ]
  },
  {
   "cell_type": "code",
   "execution_count": 12,
   "id": "c39da511",
   "metadata": {},
   "outputs": [],
   "source": [
    "pattern=r'\\d+\\sGB[\\s\\w]+RAM'\n",
    "\n",
    "df['RAM'] = df['Feature'].apply(lambda x : re.findall(pattern, x))"
   ]
  },
  {
   "cell_type": "code",
   "execution_count": 13,
   "id": "e325b91f",
   "metadata": {},
   "outputs": [
    {
     "data": {
      "text/plain": [
       "[8 GB DDR4 RAM]                                                                                               375\n",
       "[16 GB DDR4 RAM]                                                                                              153\n",
       "[16 GB DDR5 RAM]                                                                                               77\n",
       "[4 GB DDR4 RAM]                                                                                                25\n",
       "[16 GB LPDDR4X RAM]                                                                                            16\n",
       "[8 GB LPDDR4X RAM]                                                                                             16\n",
       "[32 GB DDR5 RAM]                                                                                               11\n",
       "[16 GB LPDDR5 RAM]                                                                                              9\n",
       "[4 GB LPDDR4 RAM]                                                                                               7\n",
       "[16 GB Unified Memory RAM]                                                                                      6\n",
       "[8 GB Unified Memory RAM]                                                                                       5\n",
       "[8 GB DDR5 RAM]                                                                                                 4\n",
       "[32 GB DDR4 RAM]                                                                                                4\n",
       "[4 GB LPDDR4X RAM]                                                                                              3\n",
       "[32 GB Unified Memory RAM]                                                                                      1\n",
       "[16 GB LPDDR4 RAM]                                                                                              1\n",
       "[128 GB SSD for Reduced Boot Up Time and in Game LoadingUpgradable SSD Upto 512 GB and RAM, 8 GB DDR4 RAM]      1\n",
       "[32 GB LPDDR4X RAM]                                                                                             1\n",
       "[16 GB LPDDR3 RAM]                                                                                              1\n",
       "Name: RAM, dtype: int64"
      ]
     },
     "execution_count": 13,
     "metadata": {},
     "output_type": "execute_result"
    }
   ],
   "source": [
    "df.RAM.value_counts()"
   ]
  },
  {
   "cell_type": "code",
   "execution_count": 14,
   "id": "4b8b4e90",
   "metadata": {},
   "outputs": [],
   "source": [
    "index_names = df[ df['RAM'] == '128 GB SSD for Reduced Boot Up Time and in Game LoadingUpgradable SSD Upto 512 GB and RAM, 8 GB DDR4 RAM'].index\n",
    "\n",
    "df.drop(index_names, inplace = True)"
   ]
  },
  {
   "cell_type": "code",
   "execution_count": 15,
   "id": "7ec0df05",
   "metadata": {},
   "outputs": [
    {
     "data": {
      "text/plain": [
       "[8 GB DDR4 RAM]                                                                                               375\n",
       "[16 GB DDR4 RAM]                                                                                              153\n",
       "[16 GB DDR5 RAM]                                                                                               77\n",
       "[4 GB DDR4 RAM]                                                                                                25\n",
       "[16 GB LPDDR4X RAM]                                                                                            16\n",
       "[8 GB LPDDR4X RAM]                                                                                             16\n",
       "[32 GB DDR5 RAM]                                                                                               11\n",
       "[16 GB LPDDR5 RAM]                                                                                              9\n",
       "[4 GB LPDDR4 RAM]                                                                                               7\n",
       "[16 GB Unified Memory RAM]                                                                                      6\n",
       "[8 GB Unified Memory RAM]                                                                                       5\n",
       "[8 GB DDR5 RAM]                                                                                                 4\n",
       "[32 GB DDR4 RAM]                                                                                                4\n",
       "[4 GB LPDDR4X RAM]                                                                                              3\n",
       "[32 GB Unified Memory RAM]                                                                                      1\n",
       "[16 GB LPDDR4 RAM]                                                                                              1\n",
       "[128 GB SSD for Reduced Boot Up Time and in Game LoadingUpgradable SSD Upto 512 GB and RAM, 8 GB DDR4 RAM]      1\n",
       "[32 GB LPDDR4X RAM]                                                                                             1\n",
       "[16 GB LPDDR3 RAM]                                                                                              1\n",
       "Name: RAM, dtype: int64"
      ]
     },
     "execution_count": 15,
     "metadata": {},
     "output_type": "execute_result"
    }
   ],
   "source": [
    "df.RAM.value_counts()"
   ]
  },
  {
   "cell_type": "code",
   "execution_count": 16,
   "id": "47474b3a",
   "metadata": {},
   "outputs": [],
   "source": [
    "df.RAM = df.RAM.apply(lambda x : ''.join(x))\n",
    "df['RAM_GB']=df['RAM'].str[0:2]"
   ]
  },
  {
   "cell_type": "code",
   "execution_count": 17,
   "id": "4548397a",
   "metadata": {},
   "outputs": [
    {
     "data": {
      "text/plain": [
       "8     400\n",
       "16    263\n",
       "4      35\n",
       "32     17\n",
       "12      1\n",
       "Name: RAM_GB, dtype: int64"
      ]
     },
     "execution_count": 17,
     "metadata": {},
     "output_type": "execute_result"
    }
   ],
   "source": [
    "df.RAM_GB.value_counts()"
   ]
  },
  {
   "cell_type": "code",
   "execution_count": 18,
   "id": "95e69a6c",
   "metadata": {},
   "outputs": [],
   "source": [
    "pattern=r'(?:DDR4|DDR5|LPDDR4X|LPDDR5|Unified Memory|LPDDR4|LPDDR4X|LPDDR3)'\n",
    "\n",
    "df['RAM_type'] = df['Feature'].apply(lambda x : re.findall(pattern, x))"
   ]
  },
  {
   "cell_type": "code",
   "execution_count": 19,
   "id": "c536d311",
   "metadata": {},
   "outputs": [
    {
     "data": {
      "text/plain": [
       "DDR4              549\n",
       "DDR5               92\n",
       "LPDDR4X            36\n",
       "Unified Memory     12\n",
       "LPDDR5              9\n",
       "DDR4DDR4            8\n",
       "LPDDR4              8\n",
       "DDR4DDR5DDR4        1\n",
       "LPDDR3              1\n",
       "Name: RAM_type, dtype: int64"
      ]
     },
     "execution_count": 19,
     "metadata": {},
     "output_type": "execute_result"
    }
   ],
   "source": [
    "df.RAM_type = df.RAM_type.apply(lambda x : ''.join(x))\n",
    "\n",
    "df.RAM_type.value_counts()"
   ]
  },
  {
   "cell_type": "code",
   "execution_count": 20,
   "id": "dbd98478",
   "metadata": {},
   "outputs": [],
   "source": [
    "df['RAM_type']=df['RAM_type'].replace('DDR4DDR4','DDR4')\n",
    "df['RAM_type']=df['RAM_type'].replace('DDR4DDR5DDR4','DDR4')"
   ]
  },
  {
   "cell_type": "code",
   "execution_count": 21,
   "id": "dab87dfe",
   "metadata": {},
   "outputs": [
    {
     "data": {
      "text/plain": [
       "0    [256 GB SSD]\n",
       "1    [512 GB SSD]\n",
       "2    [512 GB SSD]\n",
       "3    [512 GB SSD]\n",
       "4    [512 GB SSD]\n",
       "Name: Storage, dtype: object"
      ]
     },
     "execution_count": 21,
     "metadata": {},
     "output_type": "execute_result"
    }
   ],
   "source": [
    "pattern=r'\\d+\\s(?:GB|TB)\\s(?:HDD|SSD)'\n",
    "\n",
    "df['Storage'] = df['Feature'].apply(lambda x : re.findall(pattern, x))\n",
    "df['Storage'].head()"
   ]
  },
  {
   "cell_type": "code",
   "execution_count": 22,
   "id": "9672a999",
   "metadata": {},
   "outputs": [
    {
     "data": {
      "text/plain": [
       "[512 GB SSD]                          374\n",
       "[1 TB SSD]                            176\n",
       "[256 GB SSD]                           97\n",
       "[1 TB HDD, 256 GB SSD]                 26\n",
       "[1 TB HDD]                             16\n",
       "[]                                      9\n",
       "[2 TB SSD]                              7\n",
       "[128 GB SSD]                            6\n",
       "[1 TB HDD, 512 GB SSD]                  2\n",
       "[128 GB SSD, 1 TB HDD, 128 GB SSD]      2\n",
       "[256 GB HDD, 256 GB SSD]                1\n",
       "Name: Storage, dtype: int64"
      ]
     },
     "execution_count": 22,
     "metadata": {},
     "output_type": "execute_result"
    }
   ],
   "source": [
    "df['Storage'].value_counts()"
   ]
  },
  {
   "cell_type": "code",
   "execution_count": 23,
   "id": "623a80b7",
   "metadata": {},
   "outputs": [],
   "source": [
    "# for i in range(df.shape[0]):\n",
    "#     if df['Storage'][i]==[]:\n",
    "#         df[i].drop()\n",
    "# df.drop[df['Storage']==[]]\n",
    "df.Storage = df.Storage.apply(lambda x : ''.join(x))\n",
    "\n",
    "index_names = df[ df['Storage'] == ''].index\n",
    "\n",
    "df.drop(index_names, inplace = True)"
   ]
  },
  {
   "cell_type": "code",
   "execution_count": 24,
   "id": "e674c154",
   "metadata": {},
   "outputs": [
    {
     "data": {
      "text/plain": [
       "512 GB SSD                      374\n",
       "1 TB SSD                        176\n",
       "256 GB SSD                       97\n",
       "1 TB HDD256 GB SSD               26\n",
       "1 TB HDD                         16\n",
       "2 TB SSD                          7\n",
       "128 GB SSD                        6\n",
       "1 TB HDD512 GB SSD                2\n",
       "128 GB SSD1 TB HDD128 GB SSD      2\n",
       "256 GB HDD256 GB SSD              1\n",
       "Name: Storage, dtype: int64"
      ]
     },
     "execution_count": 24,
     "metadata": {},
     "output_type": "execute_result"
    }
   ],
   "source": [
    "df.Storage = df.Storage.apply(lambda x : ''.join(x))\n",
    "df['Storage'].value_counts()"
   ]
  },
  {
   "cell_type": "code",
   "execution_count": 25,
   "id": "ec629ccb",
   "metadata": {},
   "outputs": [
    {
     "data": {
      "text/plain": [
       "SSD    660\n",
       "HDD     47\n",
       "Name: Disk_Type, dtype: int64"
      ]
     },
     "execution_count": 25,
     "metadata": {},
     "output_type": "execute_result"
    }
   ],
   "source": [
    "df['Disk_Type'] = df['Storage'].apply(lambda x:'HDD' if 'HDD' in x else 'SSD' )\n",
    "df['Disk_Type'].value_counts()"
   ]
  },
  {
   "cell_type": "code",
   "execution_count": 26,
   "id": "e0567062",
   "metadata": {},
   "outputs": [
    {
     "data": {
      "text/plain": [
       "512     374\n",
       "1024    220\n",
       "256      98\n",
       "128       8\n",
       "2048      7\n",
       "Name: Disk_size, dtype: int64"
      ]
     },
     "execution_count": 26,
     "metadata": {},
     "output_type": "execute_result"
    }
   ],
   "source": [
    "df['Disk_size']=df['Storage'].str.split().str[0]\n",
    "df['Disk_size']=df['Disk_size'].replace('1','1024').replace('2','2048')\n",
    "df['Disk_size'].value_counts()"
   ]
  },
  {
   "cell_type": "code",
   "execution_count": 27,
   "id": "98bca83e",
   "metadata": {},
   "outputs": [
    {
     "data": {
      "text/plain": [
       "512     374\n",
       "1024    220\n",
       "256      98\n",
       "128       8\n",
       "2048      7\n",
       "Name: Disk_size, dtype: int64"
      ]
     },
     "execution_count": 27,
     "metadata": {},
     "output_type": "execute_result"
    }
   ],
   "source": [
    "df['Disk_size'].astype('int')\n",
    "df['Disk_size'].value_counts()"
   ]
  },
  {
   "cell_type": "code",
   "execution_count": null,
   "id": "fc0a2d13",
   "metadata": {},
   "outputs": [],
   "source": []
  },
  {
   "cell_type": "code",
   "execution_count": null,
   "id": "cc1d4eb6",
   "metadata": {},
   "outputs": [],
   "source": []
  },
  {
   "cell_type": "code",
   "execution_count": 28,
   "id": "94a52e36",
   "metadata": {},
   "outputs": [
    {
     "data": {
      "text/plain": [
       "[Windows 11 Operating System]                                                                                555\n",
       "[Windows 10 Operating System]                                                                                126\n",
       "[Mac OS Operating System]                                                                                     19\n",
       "[DOS Operating System]                                                                                         4\n",
       "[Windows 11 when availableAMD Ryzen 5 Hexa Core Processor8 GB DDR4 RAM64 bit Windows 11 Operating System]      1\n",
       "[Windows 10 Operating System, Windows 10 Operating System]                                                     1\n",
       "[Windows 11 when availableAMD Ryzen 5 Hexa Core Processor8 GB DDR4 RAM64 bit Windows 10 Operating System]      1\n",
       "Name: OS, dtype: int64"
      ]
     },
     "execution_count": 28,
     "metadata": {},
     "output_type": "execute_result"
    }
   ],
   "source": [
    "pattern=r'(?:Windows|DOS|Chrome|Mac)[\\w\\s]+Operating System'\n",
    "df['OS'] = df['Feature'].apply(lambda x : re.findall(pattern, x))\n",
    "df['OS'].value_counts()"
   ]
  },
  {
   "cell_type": "code",
   "execution_count": 29,
   "id": "3963de80",
   "metadata": {},
   "outputs": [],
   "source": [
    "df.OS = df.OS.apply(lambda x : ''.join(x))\n",
    "df.drop(df[df['OS']=='Windows 11 when availableAMD Ryzen 5 Hexa Core Processor8 GB DDR4 RAM64 bit Windows 11 Operating System'].index,inplace = True)\n",
    "df.drop(df[df['OS']=='Windows 10 Operating SystemWindows 10 Operating System'].index,inplace = True)\n",
    "df.drop(df[df['OS']=='Windows 11 when availableAMD Ryzen 5 Hexa Core Processor8 GB DDR4 RAM64 bit Windows 10 Operating System'].index,inplace = True)"
   ]
  },
  {
   "cell_type": "code",
   "execution_count": 30,
   "id": "32c677cc",
   "metadata": {},
   "outputs": [
    {
     "data": {
      "text/plain": [
       "Windows 11 Operating System    555\n",
       "Windows 10 Operating System    126\n",
       "Mac OS Operating System         19\n",
       "DOS Operating System             4\n",
       "Name: OS, dtype: int64"
      ]
     },
     "execution_count": 30,
     "metadata": {},
     "output_type": "execute_result"
    }
   ],
   "source": [
    "df['OS'].value_counts()"
   ]
  },
  {
   "cell_type": "code",
   "execution_count": 31,
   "id": "10aafb00",
   "metadata": {},
   "outputs": [
    {
     "data": {
      "text/plain": [
       "[SSD39.62 cm (15.6 inch) Display]                  338\n",
       "[SSD39.62 cm (15.6 Inch) Display]                  130\n",
       "[SSD35.56 cm (14 inch) Display]                     83\n",
       "[SSD35.56 cm (14 Inch) Display]                     26\n",
       "[SSD35.56 cm (14 inch) Touchscreen Display]         12\n",
       "[HDD39.62 cm (15.6 inch) Display]                   10\n",
       "[SSD40.64 cm (16 Inch) Display]                      8\n",
       "[SSD33.78 cm (13.3 inch) Display]                    7\n",
       "[SSD33.78 cm (13.3 Inch) Display]                    6\n",
       "[SSD40.64 cm (16 inch) Display]                      6\n",
       "[SSD35.56 cm (14 Inch) Touchscreen Display]          6\n",
       "[SSD43.94 cm (17.3 Inch) Display]                    6\n",
       "[SSD34.04 cm (13.4 Inch) Touchscreen Display]        5\n",
       "[SSD40.89 cm (16.1 inch) Display]                    5\n",
       "[SSD41.15 cm (16.2 inch) Display]                    5\n",
       "[SSD43.94 cm (17.3 inch) Display]                    5\n",
       "[SSD39.62 cm (15.6 inches) Display]                  5\n",
       "[SSD38.1 cm (15 inch) Display]                       4\n",
       "[HDD35.56 cm (14 inch) Display]                      4\n",
       "[SSD33.78 cm (13.3 Inch) Touchscreen Display]        3\n",
       "[SSD34.54 cm (13.6 Inch) Display]                    3\n",
       "[SSD35.81 cm (14.1 inch) Display]                    3\n",
       "[SSD40.89 cm (16.1 Inch) Display]                    3\n",
       "[SSD33.78 cm (13.3 inch) Touchscreen Display]        2\n",
       "[SSD39.62 cm (15.6 inch) Touchscreen Display]        2\n",
       "[SSD36.07 cm (14.2 inch) Display]                    2\n",
       "[SSD40.64 cm (16 Inch) Touchscreen Display]          2\n",
       "[SSD29.46 cm (11.6 Inch) Touchscreen Display]        2\n",
       "[SSD29.46 cm (11.6 inch) Display]                    1\n",
       "[SSD29.46 cm (11.6 Inch) Display]                    1\n",
       "[SSD42.16 cm (16.6 inch) Display]                    1\n",
       "[SSD35.56 cm (14 inches) Display]                    1\n",
       "[SSD39.62 cm (15.6 Inch) DisplayMatrix Display]      1\n",
       "[SSD34.29 cm (13.5 inch) Display]                    1\n",
       "[SSD38.0 cm (14.96 Inch) Display]                    1\n",
       "[SSD33.02 cm (13 inch) Display]                      1\n",
       "[SSD88.9 cm (35 cm) Display]                         1\n",
       "[HDD88.9 cm (35 cm) Display]                         1\n",
       "[HDD35.81 cm (14.1 inch) Display]                    1\n",
       "Name: Display, dtype: int64"
      ]
     },
     "execution_count": 31,
     "metadata": {},
     "output_type": "execute_result"
    }
   ],
   "source": [
    "pattern=r'(?:SSD|HDD)\\d+[(\\w\\s).]+Display'\n",
    "df['Display'] = df['Feature'].apply(lambda x : re.findall(pattern, x))\n",
    "df['Display'].value_counts()"
   ]
  },
  {
   "cell_type": "code",
   "execution_count": 32,
   "id": "66900266",
   "metadata": {},
   "outputs": [],
   "source": [
    "df.Display = df.Display.apply(lambda x : ''.join(x))\n",
    "df.Display=df.Display.str.replace('SSD','')\n",
    "df.Display=df.Display.str.replace('HDD','')"
   ]
  },
  {
   "cell_type": "code",
   "execution_count": 33,
   "id": "5f5a74cc",
   "metadata": {},
   "outputs": [
    {
     "data": {
      "text/plain": [
       "39.62 cm (15.6 inch) Display                  348\n",
       "39.62 cm (15.6 Inch) Display                  130\n",
       "35.56 cm (14 inch) Display                     87\n",
       "35.56 cm (14 Inch) Display                     26\n",
       "35.56 cm (14 inch) Touchscreen Display         12\n",
       "40.64 cm (16 Inch) Display                      8\n",
       "33.78 cm (13.3 inch) Display                    7\n",
       "35.56 cm (14 Inch) Touchscreen Display          6\n",
       "33.78 cm (13.3 Inch) Display                    6\n",
       "40.64 cm (16 inch) Display                      6\n",
       "43.94 cm (17.3 Inch) Display                    6\n",
       "34.04 cm (13.4 Inch) Touchscreen Display        5\n",
       "39.62 cm (15.6 inches) Display                  5\n",
       "43.94 cm (17.3 inch) Display                    5\n",
       "41.15 cm (16.2 inch) Display                    5\n",
       "40.89 cm (16.1 inch) Display                    5\n",
       "35.81 cm (14.1 inch) Display                    4\n",
       "38.1 cm (15 inch) Display                       4\n",
       "40.89 cm (16.1 Inch) Display                    3\n",
       "34.54 cm (13.6 Inch) Display                    3\n",
       "33.78 cm (13.3 Inch) Touchscreen Display        3\n",
       "29.46 cm (11.6 Inch) Touchscreen Display        2\n",
       "40.64 cm (16 Inch) Touchscreen Display          2\n",
       "33.78 cm (13.3 inch) Touchscreen Display        2\n",
       "88.9 cm (35 cm) Display                         2\n",
       "36.07 cm (14.2 inch) Display                    2\n",
       "39.62 cm (15.6 inch) Touchscreen Display        2\n",
       "38.0 cm (14.96 Inch) Display                    1\n",
       "34.29 cm (13.5 inch) Display                    1\n",
       "35.56 cm (14 inches) Display                    1\n",
       "39.62 cm (15.6 Inch) DisplayMatrix Display      1\n",
       "29.46 cm (11.6 inch) Display                    1\n",
       "33.02 cm (13 inch) Display                      1\n",
       "42.16 cm (16.6 inch) Display                    1\n",
       "29.46 cm (11.6 Inch) Display                    1\n",
       "Name: Display, dtype: int64"
      ]
     },
     "execution_count": 33,
     "metadata": {},
     "output_type": "execute_result"
    }
   ],
   "source": [
    "df['Display'].value_counts()"
   ]
  },
  {
   "cell_type": "code",
   "execution_count": 34,
   "id": "fe2c66c3",
   "metadata": {},
   "outputs": [],
   "source": [
    "df['Display_cm']=df['Display'].str[0:5]"
   ]
  },
  {
   "cell_type": "code",
   "execution_count": 35,
   "id": "9abf2ef2",
   "metadata": {},
   "outputs": [
    {
     "data": {
      "text/plain": [
       "39.62    486\n",
       "35.56    132\n",
       "33.78     18\n",
       "40.64     16\n",
       "43.94     11\n",
       "40.89      8\n",
       "34.04      5\n",
       "41.15      5\n",
       "35.81      4\n",
       "38.1       4\n",
       "29.46      4\n",
       "34.54      3\n",
       "88.9       2\n",
       "36.07      2\n",
       "33.02      1\n",
       "38.0       1\n",
       "34.29      1\n",
       "42.16      1\n",
       "Name: Display_cm, dtype: int64"
      ]
     },
     "execution_count": 35,
     "metadata": {},
     "output_type": "execute_result"
    }
   ],
   "source": [
    "df['Display_cm'].value_counts()"
   ]
  },
  {
   "cell_type": "code",
   "execution_count": 36,
   "id": "5cc053dd",
   "metadata": {},
   "outputs": [],
   "source": [
    "pattern= r'(\\d+(?:\\.\\d+)?)'\n",
    "df['Display_size'] = df['Display'].apply(lambda x : re.findall(pattern, x))"
   ]
  },
  {
   "cell_type": "code",
   "execution_count": 37,
   "id": "661fc608",
   "metadata": {},
   "outputs": [],
   "source": [
    "df['Display_inches']=df['Display_size'].str[1]"
   ]
  },
  {
   "cell_type": "code",
   "execution_count": 38,
   "id": "86b885d1",
   "metadata": {},
   "outputs": [
    {
     "data": {
      "text/plain": [
       "15.6     486\n",
       "14       132\n",
       "13.3      18\n",
       "16        16\n",
       "17.3      11\n",
       "16.1       8\n",
       "13.4       5\n",
       "16.2       5\n",
       "14.1       4\n",
       "15         4\n",
       "11.6       4\n",
       "13.6       3\n",
       "35         2\n",
       "14.2       2\n",
       "13         1\n",
       "14.96      1\n",
       "13.5       1\n",
       "16.6       1\n",
       "Name: Display_inches, dtype: int64"
      ]
     },
     "execution_count": 38,
     "metadata": {},
     "output_type": "execute_result"
    }
   ],
   "source": [
    "df['Display_inches'].value_counts()"
   ]
  },
  {
   "cell_type": "code",
   "execution_count": 39,
   "id": "190bd0e3",
   "metadata": {},
   "outputs": [],
   "source": [
    "df['Display_inches']=df['Display_inches'].replace('35','14')"
   ]
  },
  {
   "cell_type": "code",
   "execution_count": 40,
   "id": "b0764163",
   "metadata": {},
   "outputs": [
    {
     "data": {
      "text/plain": [
       "15.6     486\n",
       "14       134\n",
       "13.3      18\n",
       "16        16\n",
       "17.3      11\n",
       "16.1       8\n",
       "13.4       5\n",
       "16.2       5\n",
       "14.1       4\n",
       "15         4\n",
       "11.6       4\n",
       "13.6       3\n",
       "14.2       2\n",
       "13         1\n",
       "14.96      1\n",
       "13.5       1\n",
       "16.6       1\n",
       "Name: Display_inches, dtype: int64"
      ]
     },
     "execution_count": 40,
     "metadata": {},
     "output_type": "execute_result"
    }
   ],
   "source": [
    "df['Display_inches'].value_counts()"
   ]
  },
  {
   "cell_type": "code",
   "execution_count": 41,
   "id": "b618de0a",
   "metadata": {},
   "outputs": [
    {
     "name": "stdout",
     "output_type": "stream",
     "text": [
      "<class 'pandas.core.frame.DataFrame'>\n",
      "Int64Index: 704 entries, 0 to 719\n",
      "Data columns (total 17 columns):\n",
      " #   Column          Non-Null Count  Dtype  \n",
      "---  ------          --------------  -----  \n",
      " 0   Product         704 non-null    object \n",
      " 1   Rating          567 non-null    float64\n",
      " 2   MRP             704 non-null    float64\n",
      " 3   Feature         704 non-null    object \n",
      " 4   Processor       704 non-null    object \n",
      " 5   Processor_type  704 non-null    object \n",
      " 6   RAM             704 non-null    object \n",
      " 7   RAM_GB          704 non-null    object \n",
      " 8   RAM_type        704 non-null    object \n",
      " 9   Storage         704 non-null    object \n",
      " 10  Disk_Type       704 non-null    object \n",
      " 11  Disk_size       704 non-null    object \n",
      " 12  OS              704 non-null    object \n",
      " 13  Display         704 non-null    object \n",
      " 14  Display_cm      704 non-null    object \n",
      " 15  Display_size    704 non-null    object \n",
      " 16  Display_inches  704 non-null    object \n",
      "dtypes: float64(2), object(15)\n",
      "memory usage: 99.0+ KB\n"
     ]
    }
   ],
   "source": [
    "df.info()"
   ]
  },
  {
   "cell_type": "code",
   "execution_count": 42,
   "id": "29087d7d",
   "metadata": {},
   "outputs": [],
   "source": [
    "df=df.drop(columns =['Processor','Storage','Rating','Product','Display','Display_size'])"
   ]
  },
  {
   "cell_type": "code",
   "execution_count": 43,
   "id": "32939520",
   "metadata": {},
   "outputs": [
    {
     "name": "stdout",
     "output_type": "stream",
     "text": [
      "<class 'pandas.core.frame.DataFrame'>\n",
      "Int64Index: 704 entries, 0 to 719\n",
      "Data columns (total 11 columns):\n",
      " #   Column          Non-Null Count  Dtype  \n",
      "---  ------          --------------  -----  \n",
      " 0   MRP             704 non-null    float64\n",
      " 1   Feature         704 non-null    object \n",
      " 2   Processor_type  704 non-null    object \n",
      " 3   RAM             704 non-null    object \n",
      " 4   RAM_GB          704 non-null    object \n",
      " 5   RAM_type        704 non-null    object \n",
      " 6   Disk_Type       704 non-null    object \n",
      " 7   Disk_size       704 non-null    object \n",
      " 8   OS              704 non-null    object \n",
      " 9   Display_cm      704 non-null    object \n",
      " 10  Display_inches  704 non-null    object \n",
      "dtypes: float64(1), object(10)\n",
      "memory usage: 66.0+ KB\n"
     ]
    }
   ],
   "source": [
    "df.info()"
   ]
  },
  {
   "cell_type": "markdown",
   "id": "781bae6e",
   "metadata": {},
   "source": [
    "UNIVARIENT ANALYSIS"
   ]
  },
  {
   "cell_type": "code",
   "execution_count": 44,
   "id": "3f8d121a",
   "metadata": {},
   "outputs": [
    {
     "data": {
      "text/plain": [
       "count       704.000000\n",
       "mean      82674.082386\n",
       "std       61700.198394\n",
       "min       15990.000000\n",
       "25%       39990.000000\n",
       "50%       59990.000000\n",
       "75%       96512.250000\n",
       "max      434830.000000\n",
       "Name: MRP, dtype: float64"
      ]
     },
     "execution_count": 44,
     "metadata": {},
     "output_type": "execute_result"
    }
   ],
   "source": [
    "#MRP\n",
    "df['MRP'].describe()"
   ]
  },
  {
   "cell_type": "code",
   "execution_count": 45,
   "id": "3fb24002",
   "metadata": {},
   "outputs": [
    {
     "data": {
      "text/plain": [
       "<AxesSubplot:>"
      ]
     },
     "execution_count": 45,
     "metadata": {},
     "output_type": "execute_result"
    },
    {
     "data": {
      "image/png": "[encoded data removed]",
      "text/plain": [
       "<Figure size 640x480 with 1 Axes>"
      ]
     },
     "metadata": {},
     "output_type": "display_data"
    }
   ],
   "source": [
    "df['MRP'].plot(kind='box')"
   ]
  },
  {
   "cell_type": "code",
   "execution_count": 46,
   "id": "c0f3ed64",
   "metadata": {},
   "outputs": [
    {
     "data": {
      "text/plain": [
       "<AxesSubplot:>"
      ]
     },
     "execution_count": 46,
     "metadata": {},
     "output_type": "execute_result"
    },
    {
     "data": {
      "image/png": "[encoded data removed]",
      "text/plain": [
       "<Figure size 640x480 with 1 Axes>"
      ]
     },
     "metadata": {},
     "output_type": "display_data"
    }
   ],
   "source": [
    " df['MRP']=np.where(df['MRP'] >300000.0,300000.0,df['MRP'])\n",
    "df['MRP'].plot(kind='box')"
   ]
  },
  {
   "cell_type": "code",
   "execution_count": 47,
   "id": "291dcba4",
   "metadata": {},
   "outputs": [],
   "source": [
    "# df['MRP']= df['MRP'].apply(np.log1p)"
   ]
  },
  {
   "cell_type": "code",
   "execution_count": 48,
   "id": "58d53d64",
   "metadata": {},
   "outputs": [],
   "source": [
    "#df['MRP'].plot(kind='box')"
   ]
  },
  {
   "cell_type": "code",
   "execution_count": null,
   "id": "b3140d08",
   "metadata": {},
   "outputs": [],
   "source": []
  },
  {
   "cell_type": "code",
   "execution_count": null,
   "id": "e50ac3da",
   "metadata": {},
   "outputs": [],
   "source": []
  },
  {
   "cell_type": "code",
   "execution_count": 49,
   "id": "fca6cda0",
   "metadata": {},
   "outputs": [
    {
     "data": {
      "text/plain": [
       "<AxesSubplot:>"
      ]
     },
     "execution_count": 49,
     "metadata": {},
     "output_type": "execute_result"
    },
    {
     "data": {
      "image/png": "[encoded data removed]",
      "text/plain": [
       "<Figure size 640x480 with 1 Axes>"
      ]
     },
     "metadata": {},
     "output_type": "display_data"
    }
   ],
   "source": [
    "#PROCESSOR\n",
    "df['Processor_type'].value_counts().sort_values().plot(kind='barh')"
   ]
  },
  {
   "cell_type": "code",
   "execution_count": 50,
   "id": "00b37586",
   "metadata": {},
   "outputs": [
    {
     "data": {
      "text/plain": [
       "<AxesSubplot:>"
      ]
     },
     "execution_count": 50,
     "metadata": {},
     "output_type": "execute_result"
    },
    {
     "data": {
      "image/png": "[encoded data removed]",
      "text/plain": [
       "<Figure size 640x480 with 1 Axes>"
      ]
     },
     "metadata": {},
     "output_type": "display_data"
    }
   ],
   "source": [
    "#STORAGE\n",
    "df['Disk_Type'].value_counts().sort_values().plot(kind='barh')"
   ]
  },
  {
   "cell_type": "code",
   "execution_count": 51,
   "id": "fda3e0b5",
   "metadata": {},
   "outputs": [
    {
     "data": {
      "text/plain": [
       "<AxesSubplot:>"
      ]
     },
     "execution_count": 51,
     "metadata": {},
     "output_type": "execute_result"
    },
    {
     "data": {
      "image/png": "[encoded data removed]",
      "text/plain": [
       "<Figure size 640x480 with 1 Axes>"
      ]
     },
     "metadata": {},
     "output_type": "display_data"
    }
   ],
   "source": [
    "#OS\n",
    "df['OS'].value_counts().sort_values().plot(kind='barh')"
   ]
  },
  {
   "cell_type": "code",
   "execution_count": 52,
   "id": "bd396a35",
   "metadata": {},
   "outputs": [
    {
     "data": {
      "text/plain": [
       "<AxesSubplot:>"
      ]
     },
     "execution_count": 52,
     "metadata": {},
     "output_type": "execute_result"
    },
    {
     "data": {
      "image/png": "[encoded data removed]",
      "text/plain": [
       "<Figure size 640x480 with 1 Axes>"
      ]
     },
     "metadata": {},
     "output_type": "display_data"
    }
   ],
   "source": [
    "#RAM_SIZE\n",
    "df['RAM_GB'].value_counts().sort_values().plot(kind='barh')"
   ]
  },
  {
   "cell_type": "code",
   "execution_count": 53,
   "id": "fc31d081",
   "metadata": {},
   "outputs": [
    {
     "data": {
      "text/plain": [
       "<AxesSubplot:>"
      ]
     },
     "execution_count": 53,
     "metadata": {},
     "output_type": "execute_result"
    },
    {
     "data": {
      "image/png": "[encoded data removed]",
      "text/plain": [
       "<Figure size 640x480 with 1 Axes>"
      ]
     },
     "metadata": {},
     "output_type": "display_data"
    }
   ],
   "source": [
    "df['RAM_type'].value_counts().sort_values().plot(kind='barh')"
   ]
  },
  {
   "cell_type": "code",
   "execution_count": 54,
   "id": "05f09ab0",
   "metadata": {},
   "outputs": [
    {
     "data": {
      "text/plain": [
       "<AxesSubplot:>"
      ]
     },
     "execution_count": 54,
     "metadata": {},
     "output_type": "execute_result"
    },
    {
     "data": {
      "image/png": "[encoded data removed]",
      "text/plain": [
       "<Figure size 640x480 with 1 Axes>"
      ]
     },
     "metadata": {},
     "output_type": "display_data"
    }
   ],
   "source": [
    "df['Display_cm'].value_counts().sort_values().plot(kind='barh')"
   ]
  },
  {
   "cell_type": "code",
   "execution_count": 55,
   "id": "2f856e10",
   "metadata": {},
   "outputs": [
    {
     "data": {
      "text/plain": [
       "<AxesSubplot:>"
      ]
     },
     "execution_count": 55,
     "metadata": {},
     "output_type": "execute_result"
    },
    {
     "data": {
      "image/png": "[encoded data removed]",
      "text/plain": [
       "<Figure size 640x480 with 1 Axes>"
      ]
     },
     "metadata": {},
     "output_type": "display_data"
    }
   ],
   "source": [
    "df['Display_inches'].value_counts().sort_values().plot(kind='barh')"
   ]
  },
  {
   "cell_type": "markdown",
   "id": "f8d70487",
   "metadata": {},
   "source": [
    "BIVARIENT ANALYSIS"
   ]
  },
  {
   "cell_type": "code",
   "execution_count": 56,
   "id": "ea0edb85",
   "metadata": {},
   "outputs": [
    {
     "data": {
      "text/plain": [
       "<AxesSubplot:title={'center':'MRP'}, xlabel='RAM_GB'>"
      ]
     },
     "execution_count": 56,
     "metadata": {},
     "output_type": "execute_result"
    },
    {
     "data": {
      "image/png": "[encoded data removed]",
      "text/plain": [
       "<Figure size 1000x1000 with 1 Axes>"
      ]
     },
     "metadata": {},
     "output_type": "display_data"
    }
   ],
   "source": [
    "#MRP vs RAM\n",
    "df.boxplot(by='RAM_GB',column='MRP',figsize=(10,10))"
   ]
  },
  {
   "cell_type": "code",
   "execution_count": 57,
   "id": "59b7573f",
   "metadata": {},
   "outputs": [
    {
     "data": {
      "text/plain": [
       "<AxesSubplot:title={'center':'MRP'}, xlabel='RAM_type'>"
      ]
     },
     "execution_count": 57,
     "metadata": {},
     "output_type": "execute_result"
    },
    {
     "data": {
      "image/png": "[encoded data removed]",
      "text/plain": [
       "<Figure size 1000x1000 with 1 Axes>"
      ]
     },
     "metadata": {},
     "output_type": "display_data"
    }
   ],
   "source": [
    "df.boxplot(by='RAM_type',column='MRP',figsize=(10,10))"
   ]
  },
  {
   "cell_type": "code",
   "execution_count": 58,
   "id": "d18246c6",
   "metadata": {},
   "outputs": [
    {
     "data": {
      "text/plain": [
       "<AxesSubplot:title={'center':'MRP'}, xlabel='Disk_Type'>"
      ]
     },
     "execution_count": 58,
     "metadata": {},
     "output_type": "execute_result"
    },
    {
     "data": {
      "image/png": "[encoded data removed]",
      "text/plain": [
       "<Figure size 1000x1000 with 1 Axes>"
      ]
     },
     "metadata": {},
     "output_type": "display_data"
    }
   ],
   "source": [
    "#MRP vs Disk\n",
    "df.boxplot(by='Disk_Type',column='MRP',figsize=(10,10))"
   ]
  },
  {
   "cell_type": "code",
   "execution_count": 59,
   "id": "59a05b20",
   "metadata": {},
   "outputs": [
    {
     "data": {
      "text/plain": [
       "<AxesSubplot:title={'center':'MRP'}, xlabel='OS'>"
      ]
     },
     "execution_count": 59,
     "metadata": {},
     "output_type": "execute_result"
    },
    {
     "data": {
      "image/png": "[encoded data removed]",
      "text/plain": [
       "<Figure size 1000x1000 with 1 Axes>"
      ]
     },
     "metadata": {},
     "output_type": "display_data"
    }
   ],
   "source": [
    "df.boxplot(by='OS',column='MRP',figsize=(10,10))"
   ]
  },
  {
   "cell_type": "code",
   "execution_count": 60,
   "id": "52e8cf7e",
   "metadata": {},
   "outputs": [
    {
     "data": {
      "text/plain": [
       "<AxesSubplot:title={'center':'MRP'}, xlabel='Display_inches'>"
      ]
     },
     "execution_count": 60,
     "metadata": {},
     "output_type": "execute_result"
    },
    {
     "data": {
      "image/png": "[encoded data removed]",
      "text/plain": [
       "<Figure size 1000x1000 with 1 Axes>"
      ]
     },
     "metadata": {},
     "output_type": "display_data"
    }
   ],
   "source": [
    "df.boxplot(by='Display_inches',column='MRP',figsize=(10,10))"
   ]
  },
  {
   "cell_type": "code",
   "execution_count": 61,
   "id": "0acbd5a2",
   "metadata": {},
   "outputs": [
    {
     "name": "stdout",
     "output_type": "stream",
     "text": [
      "<class 'pandas.core.frame.DataFrame'>\n",
      "Int64Index: 704 entries, 0 to 719\n",
      "Data columns (total 11 columns):\n",
      " #   Column          Non-Null Count  Dtype  \n",
      "---  ------          --------------  -----  \n",
      " 0   MRP             704 non-null    float64\n",
      " 1   Feature         704 non-null    object \n",
      " 2   Processor_type  704 non-null    object \n",
      " 3   RAM             704 non-null    object \n",
      " 4   RAM_GB          704 non-null    object \n",
      " 5   RAM_type        704 non-null    object \n",
      " 6   Disk_Type       704 non-null    object \n",
      " 7   Disk_size       704 non-null    object \n",
      " 8   OS              704 non-null    object \n",
      " 9   Display_cm      704 non-null    object \n",
      " 10  Display_inches  704 non-null    object \n",
      "dtypes: float64(1), object(10)\n",
      "memory usage: 66.0+ KB\n"
     ]
    }
   ],
   "source": [
    "df.info()"
   ]
  },
  {
   "cell_type": "code",
   "execution_count": 62,
   "id": "3c1e54e3",
   "metadata": {},
   "outputs": [
    {
     "data": {
      "text/html": [
       "<div>\n",
       "<style scoped>\n",
       "    .dataframe tbody tr th:only-of-type {\n",
       "        vertical-align: middle;\n",
       "    }\n",
       "\n",
       "    .dataframe tbody tr th {\n",
       "        vertical-align: top;\n",
       "    }\n",
       "\n",
       "    .dataframe thead th {\n",
       "        text-align: right;\n",
       "    }\n",
       "</style>\n",
       "<table border=\"1\" class=\"dataframe\">\n",
       "  <thead>\n",
       "    <tr style=\"text-align: right;\">\n",
       "      <th></th>\n",
       "      <th>Processor_type</th>\n",
       "      <th>RAM_GB</th>\n",
       "      <th>RAM_type</th>\n",
       "      <th>Disk_Type</th>\n",
       "      <th>Disk_size</th>\n",
       "      <th>OS</th>\n",
       "      <th>Display_inches</th>\n",
       "    </tr>\n",
       "  </thead>\n",
       "  <tbody>\n",
       "    <tr>\n",
       "      <th>0</th>\n",
       "      <td>Intel</td>\n",
       "      <td>8</td>\n",
       "      <td>DDR4</td>\n",
       "      <td>SSD</td>\n",
       "      <td>256</td>\n",
       "      <td>Windows 11 Operating System</td>\n",
       "      <td>14</td>\n",
       "    </tr>\n",
       "    <tr>\n",
       "      <th>1</th>\n",
       "      <td>Intel</td>\n",
       "      <td>8</td>\n",
       "      <td>DDR4</td>\n",
       "      <td>SSD</td>\n",
       "      <td>512</td>\n",
       "      <td>Windows 11 Operating System</td>\n",
       "      <td>15.6</td>\n",
       "    </tr>\n",
       "    <tr>\n",
       "      <th>2</th>\n",
       "      <td>Intel</td>\n",
       "      <td>8</td>\n",
       "      <td>DDR4</td>\n",
       "      <td>SSD</td>\n",
       "      <td>512</td>\n",
       "      <td>Windows 11 Operating System</td>\n",
       "      <td>15.6</td>\n",
       "    </tr>\n",
       "    <tr>\n",
       "      <th>3</th>\n",
       "      <td>AMD Ryzen</td>\n",
       "      <td>8</td>\n",
       "      <td>DDR4</td>\n",
       "      <td>SSD</td>\n",
       "      <td>512</td>\n",
       "      <td>Windows 10 Operating System</td>\n",
       "      <td>15.6</td>\n",
       "    </tr>\n",
       "    <tr>\n",
       "      <th>4</th>\n",
       "      <td>Intel</td>\n",
       "      <td>8</td>\n",
       "      <td>DDR4</td>\n",
       "      <td>SSD</td>\n",
       "      <td>512</td>\n",
       "      <td>Windows 11 Operating System</td>\n",
       "      <td>15.6</td>\n",
       "    </tr>\n",
       "  </tbody>\n",
       "</table>\n",
       "</div>"
      ],
      "text/plain": [
       "  Processor_type RAM_GB RAM_type Disk_Type Disk_size  \\\n",
       "0          Intel     8      DDR4       SSD       256   \n",
       "1          Intel     8      DDR4       SSD       512   \n",
       "2          Intel     8      DDR4       SSD       512   \n",
       "3      AMD Ryzen     8      DDR4       SSD       512   \n",
       "4          Intel     8      DDR4       SSD       512   \n",
       "\n",
       "                            OS Display_inches  \n",
       "0  Windows 11 Operating System             14  \n",
       "1  Windows 11 Operating System           15.6  \n",
       "2  Windows 11 Operating System           15.6  \n",
       "3  Windows 10 Operating System           15.6  \n",
       "4  Windows 11 Operating System           15.6  "
      ]
     },
     "execution_count": 62,
     "metadata": {},
     "output_type": "execute_result"
    }
   ],
   "source": [
    "data=df[['Processor_type','RAM_GB','RAM_type','Disk_Type','Disk_size','OS','Display_inches']]\n",
    "data.to_csv('laptop_price.csv', index=False)\n",
    "data.head()"
   ]
  },
  {
   "cell_type": "code",
   "execution_count": 63,
   "id": "65058308",
   "metadata": {},
   "outputs": [],
   "source": [
    "X = df.drop(columns=[\"RAM\", \"Display_cm\", \"Feature\",'MRP'])\n",
    "y = df.MRP"
   ]
  },
  {
   "cell_type": "code",
   "execution_count": 64,
   "id": "50485c3d",
   "metadata": {},
   "outputs": [
    {
     "data": {
      "text/html": [
       "<div>\n",
       "<style scoped>\n",
       "    .dataframe tbody tr th:only-of-type {\n",
       "        vertical-align: middle;\n",
       "    }\n",
       "\n",
       "    .dataframe tbody tr th {\n",
       "        vertical-align: top;\n",
       "    }\n",
       "\n",
       "    .dataframe thead th {\n",
       "        text-align: right;\n",
       "    }\n",
       "</style>\n",
       "<table border=\"1\" class=\"dataframe\">\n",
       "  <thead>\n",
       "    <tr style=\"text-align: right;\">\n",
       "      <th></th>\n",
       "      <th>Processor_type</th>\n",
       "      <th>RAM_GB</th>\n",
       "      <th>RAM_type</th>\n",
       "      <th>Disk_Type</th>\n",
       "      <th>Disk_size</th>\n",
       "      <th>OS</th>\n",
       "      <th>Display_inches</th>\n",
       "    </tr>\n",
       "  </thead>\n",
       "  <tbody>\n",
       "    <tr>\n",
       "      <th>0</th>\n",
       "      <td>Intel</td>\n",
       "      <td>8</td>\n",
       "      <td>DDR4</td>\n",
       "      <td>SSD</td>\n",
       "      <td>256</td>\n",
       "      <td>Windows 11 Operating System</td>\n",
       "      <td>14</td>\n",
       "    </tr>\n",
       "    <tr>\n",
       "      <th>1</th>\n",
       "      <td>Intel</td>\n",
       "      <td>8</td>\n",
       "      <td>DDR4</td>\n",
       "      <td>SSD</td>\n",
       "      <td>512</td>\n",
       "      <td>Windows 11 Operating System</td>\n",
       "      <td>15.6</td>\n",
       "    </tr>\n",
       "    <tr>\n",
       "      <th>2</th>\n",
       "      <td>Intel</td>\n",
       "      <td>8</td>\n",
       "      <td>DDR4</td>\n",
       "      <td>SSD</td>\n",
       "      <td>512</td>\n",
       "      <td>Windows 11 Operating System</td>\n",
       "      <td>15.6</td>\n",
       "    </tr>\n",
       "    <tr>\n",
       "      <th>3</th>\n",
       "      <td>AMD Ryzen</td>\n",
       "      <td>8</td>\n",
       "      <td>DDR4</td>\n",
       "      <td>SSD</td>\n",
       "      <td>512</td>\n",
       "      <td>Windows 10 Operating System</td>\n",
       "      <td>15.6</td>\n",
       "    </tr>\n",
       "    <tr>\n",
       "      <th>4</th>\n",
       "      <td>Intel</td>\n",
       "      <td>8</td>\n",
       "      <td>DDR4</td>\n",
       "      <td>SSD</td>\n",
       "      <td>512</td>\n",
       "      <td>Windows 11 Operating System</td>\n",
       "      <td>15.6</td>\n",
       "    </tr>\n",
       "    <tr>\n",
       "      <th>...</th>\n",
       "      <td>...</td>\n",
       "      <td>...</td>\n",
       "      <td>...</td>\n",
       "      <td>...</td>\n",
       "      <td>...</td>\n",
       "      <td>...</td>\n",
       "      <td>...</td>\n",
       "    </tr>\n",
       "    <tr>\n",
       "      <th>714</th>\n",
       "      <td>AMD Ryzen</td>\n",
       "      <td>16</td>\n",
       "      <td>DDR4</td>\n",
       "      <td>SSD</td>\n",
       "      <td>512</td>\n",
       "      <td>Windows 10 Operating System</td>\n",
       "      <td>15.6</td>\n",
       "    </tr>\n",
       "    <tr>\n",
       "      <th>716</th>\n",
       "      <td>AMD Ryzen</td>\n",
       "      <td>8</td>\n",
       "      <td>DDR4</td>\n",
       "      <td>SSD</td>\n",
       "      <td>512</td>\n",
       "      <td>Windows 11 Operating System</td>\n",
       "      <td>15.6</td>\n",
       "    </tr>\n",
       "    <tr>\n",
       "      <th>717</th>\n",
       "      <td>AMD Ryzen</td>\n",
       "      <td>16</td>\n",
       "      <td>DDR5</td>\n",
       "      <td>SSD</td>\n",
       "      <td>1024</td>\n",
       "      <td>Windows 11 Operating System</td>\n",
       "      <td>15.6</td>\n",
       "    </tr>\n",
       "    <tr>\n",
       "      <th>718</th>\n",
       "      <td>Intel</td>\n",
       "      <td>16</td>\n",
       "      <td>LPDDR5</td>\n",
       "      <td>SSD</td>\n",
       "      <td>512</td>\n",
       "      <td>Windows 11 Operating System</td>\n",
       "      <td>14</td>\n",
       "    </tr>\n",
       "    <tr>\n",
       "      <th>719</th>\n",
       "      <td>Intel</td>\n",
       "      <td>8</td>\n",
       "      <td>DDR4</td>\n",
       "      <td>HDD</td>\n",
       "      <td>1024</td>\n",
       "      <td>Windows 10 Operating System</td>\n",
       "      <td>15.6</td>\n",
       "    </tr>\n",
       "  </tbody>\n",
       "</table>\n",
       "<p>704 rows × 7 columns</p>\n",
       "</div>"
      ],
      "text/plain": [
       "    Processor_type RAM_GB RAM_type Disk_Type Disk_size  \\\n",
       "0            Intel     8      DDR4       SSD       256   \n",
       "1            Intel     8      DDR4       SSD       512   \n",
       "2            Intel     8      DDR4       SSD       512   \n",
       "3        AMD Ryzen     8      DDR4       SSD       512   \n",
       "4            Intel     8      DDR4       SSD       512   \n",
       "..             ...    ...      ...       ...       ...   \n",
       "714      AMD Ryzen     16     DDR4       SSD       512   \n",
       "716      AMD Ryzen     8      DDR4       SSD       512   \n",
       "717      AMD Ryzen     16     DDR5       SSD      1024   \n",
       "718          Intel     16   LPDDR5       SSD       512   \n",
       "719          Intel     8      DDR4       HDD      1024   \n",
       "\n",
       "                              OS Display_inches  \n",
       "0    Windows 11 Operating System             14  \n",
       "1    Windows 11 Operating System           15.6  \n",
       "2    Windows 11 Operating System           15.6  \n",
       "3    Windows 10 Operating System           15.6  \n",
       "4    Windows 11 Operating System           15.6  \n",
       "..                           ...            ...  \n",
       "714  Windows 10 Operating System           15.6  \n",
       "716  Windows 11 Operating System           15.6  \n",
       "717  Windows 11 Operating System           15.6  \n",
       "718  Windows 11 Operating System             14  \n",
       "719  Windows 10 Operating System           15.6  \n",
       "\n",
       "[704 rows x 7 columns]"
      ]
     },
     "execution_count": 64,
     "metadata": {},
     "output_type": "execute_result"
    }
   ],
   "source": [
    "X"
   ]
  },
  {
   "cell_type": "code",
   "execution_count": 65,
   "id": "2c8f75e8",
   "metadata": {},
   "outputs": [
    {
     "data": {
      "text/plain": [
       "0       36990.0\n",
       "1       39990.0\n",
       "2       32990.0\n",
       "3       49990.0\n",
       "4       49990.0\n",
       "         ...   \n",
       "714     90000.0\n",
       "716     73490.0\n",
       "717    194990.0\n",
       "718    125990.0\n",
       "719     50990.0\n",
       "Name: MRP, Length: 704, dtype: float64"
      ]
     },
     "execution_count": 65,
     "metadata": {},
     "output_type": "execute_result"
    }
   ],
   "source": [
    "y"
   ]
  },
  {
   "cell_type": "code",
   "execution_count": 66,
   "id": "702a8984",
   "metadata": {},
   "outputs": [
    {
     "data": {
      "text/plain": [
       "Index(['Processor_type', 'RAM_GB', 'RAM_type', 'Disk_Type', 'Disk_size', 'OS',\n",
       "       'Display_inches'],\n",
       "      dtype='object')"
      ]
     },
     "execution_count": 66,
     "metadata": {},
     "output_type": "execute_result"
    }
   ],
   "source": [
    "X.columns"
   ]
  },
  {
   "cell_type": "code",
   "execution_count": 67,
   "id": "cc4b726f",
   "metadata": {},
   "outputs": [],
   "source": [
    "col=['Processor_type', 'RAM_GB', 'RAM_type', 'Disk_Type', 'Disk_size', 'OS','Display_inches']"
   ]
  },
  {
   "cell_type": "code",
   "execution_count": 68,
   "id": "0b42fb31",
   "metadata": {},
   "outputs": [],
   "source": [
    "from sklearn.preprocessing import LabelEncoder\n",
    "le = LabelEncoder()\n",
    "X=X[col].apply(lambda col: le.fit_transform(col))"
   ]
  },
  {
   "cell_type": "code",
   "execution_count": 69,
   "id": "8731d281",
   "metadata": {},
   "outputs": [
    {
     "data": {
      "text/html": [
       "<div>\n",
       "<style scoped>\n",
       "    .dataframe tbody tr th:only-of-type {\n",
       "        vertical-align: middle;\n",
       "    }\n",
       "\n",
       "    .dataframe tbody tr th {\n",
       "        vertical-align: top;\n",
       "    }\n",
       "\n",
       "    .dataframe thead th {\n",
       "        text-align: right;\n",
       "    }\n",
       "</style>\n",
       "<table border=\"1\" class=\"dataframe\">\n",
       "  <thead>\n",
       "    <tr style=\"text-align: right;\">\n",
       "      <th></th>\n",
       "      <th>Processor_type</th>\n",
       "      <th>RAM_GB</th>\n",
       "      <th>RAM_type</th>\n",
       "      <th>Disk_Type</th>\n",
       "      <th>Disk_size</th>\n",
       "      <th>OS</th>\n",
       "      <th>Display_inches</th>\n",
       "    </tr>\n",
       "  </thead>\n",
       "  <tbody>\n",
       "    <tr>\n",
       "      <th>0</th>\n",
       "      <td>2</td>\n",
       "      <td>3</td>\n",
       "      <td>0</td>\n",
       "      <td>1</td>\n",
       "      <td>3</td>\n",
       "      <td>3</td>\n",
       "      <td>6</td>\n",
       "    </tr>\n",
       "    <tr>\n",
       "      <th>1</th>\n",
       "      <td>2</td>\n",
       "      <td>3</td>\n",
       "      <td>0</td>\n",
       "      <td>1</td>\n",
       "      <td>4</td>\n",
       "      <td>3</td>\n",
       "      <td>11</td>\n",
       "    </tr>\n",
       "    <tr>\n",
       "      <th>2</th>\n",
       "      <td>2</td>\n",
       "      <td>3</td>\n",
       "      <td>0</td>\n",
       "      <td>1</td>\n",
       "      <td>4</td>\n",
       "      <td>3</td>\n",
       "      <td>11</td>\n",
       "    </tr>\n",
       "    <tr>\n",
       "      <th>3</th>\n",
       "      <td>0</td>\n",
       "      <td>3</td>\n",
       "      <td>0</td>\n",
       "      <td>1</td>\n",
       "      <td>4</td>\n",
       "      <td>2</td>\n",
       "      <td>11</td>\n",
       "    </tr>\n",
       "    <tr>\n",
       "      <th>4</th>\n",
       "      <td>2</td>\n",
       "      <td>3</td>\n",
       "      <td>0</td>\n",
       "      <td>1</td>\n",
       "      <td>4</td>\n",
       "      <td>3</td>\n",
       "      <td>11</td>\n",
       "    </tr>\n",
       "  </tbody>\n",
       "</table>\n",
       "</div>"
      ],
      "text/plain": [
       "   Processor_type  RAM_GB  RAM_type  Disk_Type  Disk_size  OS  Display_inches\n",
       "0               2       3         0          1          3   3               6\n",
       "1               2       3         0          1          4   3              11\n",
       "2               2       3         0          1          4   3              11\n",
       "3               0       3         0          1          4   2              11\n",
       "4               2       3         0          1          4   3              11"
      ]
     },
     "execution_count": 69,
     "metadata": {},
     "output_type": "execute_result"
    }
   ],
   "source": [
    "data2=X[['Processor_type','RAM_GB','RAM_type','Disk_Type','Disk_size','OS','Display_inches']]\n",
    "data2.to_csv('laptop_price_2.csv', index=False)\n",
    "data2.head()"
   ]
  },
  {
   "cell_type": "code",
   "execution_count": 70,
   "id": "ac73601d",
   "metadata": {},
   "outputs": [
    {
     "name": "stdout",
     "output_type": "stream",
     "text": [
      "Processor_type\n",
      "RAM_GB\n",
      "RAM_type\n",
      "Disk_Type\n",
      "Disk_size\n",
      "OS\n",
      "Display_inches\n"
     ]
    }
   ],
   "source": [
    "\n",
    "dic={}\n",
    "for colums in data.columns:\n",
    "    print(colums)\n",
    "    dic.update(dict(zip(data[colums].unique(),data2[colums].unique())))"
   ]
  },
  {
   "cell_type": "code",
   "execution_count": 71,
   "id": "f84ed93b",
   "metadata": {},
   "outputs": [
    {
     "name": "stdout",
     "output_type": "stream",
     "text": [
      "{'Intel': 2, 'AMD Ryzen': 0, 'Apple': 1, '8 ': 3, '16': 12, '4 ': 2, '32': 1, 'DDR4': 0, 'DDR5': 1, 'LPDDR4': 3, 'Unified Memory': 6, 'LPDDR4X': 4, 'LPDDR5': 5, 'LPDDR3': 2, 'SSD': 1, 'HDD': 0, '256': 3, '512': 4, '1024': 0, '128': 1, '2048': 2, 'Windows 11 Operating System': 3, 'Windows 10 Operating System': 2, 'Mac OS Operating System': 1, 'DOS Operating System': 0, '14': 6, '15.6': 11, '17.3': 16, '13.3': 2, '14.2': 8, '13.6': 5, '16.1': 13, '16.2': 14, '14.1': 7, '13.4': 3, '15': 10, '13': 1, '14.96': 9, '13.5': 4, '11.6': 0, '16.6': 15}\n"
     ]
    }
   ],
   "source": [
    "print(dic)"
   ]
  },
  {
   "cell_type": "code",
   "execution_count": 72,
   "id": "0778dfc9",
   "metadata": {},
   "outputs": [
    {
     "data": {
      "text/plain": [
       "array(['Intel', 'AMD Ryzen', 'Apple'], dtype=object)"
      ]
     },
     "execution_count": 72,
     "metadata": {},
     "output_type": "execute_result"
    }
   ],
   "source": [
    "data['Processor_type'].unique()"
   ]
  },
  {
   "cell_type": "code",
   "execution_count": 73,
   "id": "dcfdba48",
   "metadata": {},
   "outputs": [
    {
     "data": {
      "text/plain": [
       "array([3, 2, 1, 0])"
      ]
     },
     "execution_count": 73,
     "metadata": {},
     "output_type": "execute_result"
    }
   ],
   "source": [
    "X['OS'].unique()"
   ]
  },
  {
   "cell_type": "code",
   "execution_count": 74,
   "id": "ea821523",
   "metadata": {},
   "outputs": [
    {
     "data": {
      "text/plain": [
       "{'Windows 11 Operating System': 3,\n",
       " 'Windows 10 Operating System': 2,\n",
       " 'Mac OS Operating System': 1,\n",
       " 'DOS Operating System': 0}"
      ]
     },
     "execution_count": 74,
     "metadata": {},
     "output_type": "execute_result"
    }
   ],
   "source": [
    "os=dict(zip(data['OS'].unique(),X['OS'].unique()))\n",
    "os"
   ]
  },
  {
   "cell_type": "code",
   "execution_count": null,
   "id": "f9511a09",
   "metadata": {},
   "outputs": [],
   "source": []
  },
  {
   "cell_type": "code",
   "execution_count": null,
   "id": "b4e44d9b",
   "metadata": {},
   "outputs": [],
   "source": []
  },
  {
   "cell_type": "code",
   "execution_count": 75,
   "id": "ca6063c0",
   "metadata": {},
   "outputs": [],
   "source": [
    "# train test split\n",
    "from sklearn.model_selection import train_test_split"
   ]
  },
  {
   "cell_type": "code",
   "execution_count": 76,
   "id": "f1b3823b",
   "metadata": {},
   "outputs": [],
   "source": [
    "X_train, X_test, y_train, y_test = train_test_split(X, y, test_size=0.25, random_state=100)\n"
   ]
  },
  {
   "cell_type": "code",
   "execution_count": 77,
   "id": "59f74013",
   "metadata": {
    "scrolled": true
   },
   "outputs": [
    {
     "data": {
      "text/html": [
       "<div>\n",
       "<style scoped>\n",
       "    .dataframe tbody tr th:only-of-type {\n",
       "        vertical-align: middle;\n",
       "    }\n",
       "\n",
       "    .dataframe tbody tr th {\n",
       "        vertical-align: top;\n",
       "    }\n",
       "\n",
       "    .dataframe thead th {\n",
       "        text-align: right;\n",
       "    }\n",
       "</style>\n",
       "<table border=\"1\" class=\"dataframe\">\n",
       "  <thead>\n",
       "    <tr style=\"text-align: right;\">\n",
       "      <th></th>\n",
       "      <th>Processor_type</th>\n",
       "      <th>RAM_GB</th>\n",
       "      <th>RAM_type</th>\n",
       "      <th>Disk_Type</th>\n",
       "      <th>Disk_size</th>\n",
       "      <th>OS</th>\n",
       "      <th>Display_inches</th>\n",
       "    </tr>\n",
       "  </thead>\n",
       "  <tbody>\n",
       "    <tr>\n",
       "      <th>355</th>\n",
       "      <td>2</td>\n",
       "      <td>3</td>\n",
       "      <td>0</td>\n",
       "      <td>1</td>\n",
       "      <td>4</td>\n",
       "      <td>2</td>\n",
       "      <td>6</td>\n",
       "    </tr>\n",
       "    <tr>\n",
       "      <th>161</th>\n",
       "      <td>0</td>\n",
       "      <td>0</td>\n",
       "      <td>0</td>\n",
       "      <td>1</td>\n",
       "      <td>0</td>\n",
       "      <td>3</td>\n",
       "      <td>11</td>\n",
       "    </tr>\n",
       "    <tr>\n",
       "      <th>156</th>\n",
       "      <td>0</td>\n",
       "      <td>3</td>\n",
       "      <td>0</td>\n",
       "      <td>1</td>\n",
       "      <td>4</td>\n",
       "      <td>3</td>\n",
       "      <td>11</td>\n",
       "    </tr>\n",
       "    <tr>\n",
       "      <th>80</th>\n",
       "      <td>0</td>\n",
       "      <td>0</td>\n",
       "      <td>1</td>\n",
       "      <td>1</td>\n",
       "      <td>0</td>\n",
       "      <td>3</td>\n",
       "      <td>11</td>\n",
       "    </tr>\n",
       "    <tr>\n",
       "      <th>9</th>\n",
       "      <td>0</td>\n",
       "      <td>0</td>\n",
       "      <td>0</td>\n",
       "      <td>1</td>\n",
       "      <td>4</td>\n",
       "      <td>3</td>\n",
       "      <td>6</td>\n",
       "    </tr>\n",
       "    <tr>\n",
       "      <th>...</th>\n",
       "      <td>...</td>\n",
       "      <td>...</td>\n",
       "      <td>...</td>\n",
       "      <td>...</td>\n",
       "      <td>...</td>\n",
       "      <td>...</td>\n",
       "      <td>...</td>\n",
       "    </tr>\n",
       "    <tr>\n",
       "      <th>591</th>\n",
       "      <td>0</td>\n",
       "      <td>0</td>\n",
       "      <td>0</td>\n",
       "      <td>1</td>\n",
       "      <td>0</td>\n",
       "      <td>3</td>\n",
       "      <td>11</td>\n",
       "    </tr>\n",
       "    <tr>\n",
       "      <th>55</th>\n",
       "      <td>0</td>\n",
       "      <td>3</td>\n",
       "      <td>0</td>\n",
       "      <td>1</td>\n",
       "      <td>4</td>\n",
       "      <td>3</td>\n",
       "      <td>11</td>\n",
       "    </tr>\n",
       "    <tr>\n",
       "      <th>357</th>\n",
       "      <td>0</td>\n",
       "      <td>3</td>\n",
       "      <td>0</td>\n",
       "      <td>1</td>\n",
       "      <td>4</td>\n",
       "      <td>3</td>\n",
       "      <td>11</td>\n",
       "    </tr>\n",
       "    <tr>\n",
       "      <th>81</th>\n",
       "      <td>0</td>\n",
       "      <td>0</td>\n",
       "      <td>0</td>\n",
       "      <td>1</td>\n",
       "      <td>0</td>\n",
       "      <td>3</td>\n",
       "      <td>11</td>\n",
       "    </tr>\n",
       "    <tr>\n",
       "      <th>530</th>\n",
       "      <td>2</td>\n",
       "      <td>3</td>\n",
       "      <td>0</td>\n",
       "      <td>1</td>\n",
       "      <td>4</td>\n",
       "      <td>3</td>\n",
       "      <td>11</td>\n",
       "    </tr>\n",
       "  </tbody>\n",
       "</table>\n",
       "<p>528 rows × 7 columns</p>\n",
       "</div>"
      ],
      "text/plain": [
       "     Processor_type  RAM_GB  RAM_type  Disk_Type  Disk_size  OS  \\\n",
       "355               2       3         0          1          4   2   \n",
       "161               0       0         0          1          0   3   \n",
       "156               0       3         0          1          4   3   \n",
       "80                0       0         1          1          0   3   \n",
       "9                 0       0         0          1          4   3   \n",
       "..              ...     ...       ...        ...        ...  ..   \n",
       "591               0       0         0          1          0   3   \n",
       "55                0       3         0          1          4   3   \n",
       "357               0       3         0          1          4   3   \n",
       "81                0       0         0          1          0   3   \n",
       "530               2       3         0          1          4   3   \n",
       "\n",
       "     Display_inches  \n",
       "355               6  \n",
       "161              11  \n",
       "156              11  \n",
       "80               11  \n",
       "9                 6  \n",
       "..              ...  \n",
       "591              11  \n",
       "55               11  \n",
       "357              11  \n",
       "81               11  \n",
       "530              11  \n",
       "\n",
       "[528 rows x 7 columns]"
      ]
     },
     "execution_count": 77,
     "metadata": {},
     "output_type": "execute_result"
    }
   ],
   "source": [
    "X_train"
   ]
  },
  {
   "cell_type": "code",
   "execution_count": 78,
   "id": "9f3fcccc",
   "metadata": {},
   "outputs": [
    {
     "data": {
      "text/html": [
       "<div>\n",
       "<style scoped>\n",
       "    .dataframe tbody tr th:only-of-type {\n",
       "        vertical-align: middle;\n",
       "    }\n",
       "\n",
       "    .dataframe tbody tr th {\n",
       "        vertical-align: top;\n",
       "    }\n",
       "\n",
       "    .dataframe thead th {\n",
       "        text-align: right;\n",
       "    }\n",
       "</style>\n",
       "<table border=\"1\" class=\"dataframe\">\n",
       "  <thead>\n",
       "    <tr style=\"text-align: right;\">\n",
       "      <th></th>\n",
       "      <th>Processor_type</th>\n",
       "      <th>RAM_GB</th>\n",
       "      <th>RAM_type</th>\n",
       "      <th>Disk_Type</th>\n",
       "      <th>Disk_size</th>\n",
       "      <th>OS</th>\n",
       "      <th>Display_inches</th>\n",
       "    </tr>\n",
       "  </thead>\n",
       "  <tbody>\n",
       "    <tr>\n",
       "      <th>419</th>\n",
       "      <td>2</td>\n",
       "      <td>3</td>\n",
       "      <td>0</td>\n",
       "      <td>1</td>\n",
       "      <td>3</td>\n",
       "      <td>2</td>\n",
       "      <td>11</td>\n",
       "    </tr>\n",
       "    <tr>\n",
       "      <th>500</th>\n",
       "      <td>2</td>\n",
       "      <td>3</td>\n",
       "      <td>0</td>\n",
       "      <td>1</td>\n",
       "      <td>4</td>\n",
       "      <td>3</td>\n",
       "      <td>11</td>\n",
       "    </tr>\n",
       "    <tr>\n",
       "      <th>339</th>\n",
       "      <td>2</td>\n",
       "      <td>0</td>\n",
       "      <td>0</td>\n",
       "      <td>1</td>\n",
       "      <td>4</td>\n",
       "      <td>3</td>\n",
       "      <td>11</td>\n",
       "    </tr>\n",
       "    <tr>\n",
       "      <th>278</th>\n",
       "      <td>0</td>\n",
       "      <td>3</td>\n",
       "      <td>0</td>\n",
       "      <td>0</td>\n",
       "      <td>0</td>\n",
       "      <td>2</td>\n",
       "      <td>11</td>\n",
       "    </tr>\n",
       "    <tr>\n",
       "      <th>254</th>\n",
       "      <td>2</td>\n",
       "      <td>0</td>\n",
       "      <td>0</td>\n",
       "      <td>1</td>\n",
       "      <td>4</td>\n",
       "      <td>3</td>\n",
       "      <td>6</td>\n",
       "    </tr>\n",
       "    <tr>\n",
       "      <th>...</th>\n",
       "      <td>...</td>\n",
       "      <td>...</td>\n",
       "      <td>...</td>\n",
       "      <td>...</td>\n",
       "      <td>...</td>\n",
       "      <td>...</td>\n",
       "      <td>...</td>\n",
       "    </tr>\n",
       "    <tr>\n",
       "      <th>199</th>\n",
       "      <td>2</td>\n",
       "      <td>3</td>\n",
       "      <td>0</td>\n",
       "      <td>0</td>\n",
       "      <td>0</td>\n",
       "      <td>2</td>\n",
       "      <td>11</td>\n",
       "    </tr>\n",
       "    <tr>\n",
       "      <th>623</th>\n",
       "      <td>2</td>\n",
       "      <td>0</td>\n",
       "      <td>0</td>\n",
       "      <td>1</td>\n",
       "      <td>4</td>\n",
       "      <td>2</td>\n",
       "      <td>6</td>\n",
       "    </tr>\n",
       "    <tr>\n",
       "      <th>432</th>\n",
       "      <td>0</td>\n",
       "      <td>3</td>\n",
       "      <td>0</td>\n",
       "      <td>1</td>\n",
       "      <td>4</td>\n",
       "      <td>3</td>\n",
       "      <td>11</td>\n",
       "    </tr>\n",
       "    <tr>\n",
       "      <th>213</th>\n",
       "      <td>2</td>\n",
       "      <td>3</td>\n",
       "      <td>0</td>\n",
       "      <td>1</td>\n",
       "      <td>4</td>\n",
       "      <td>3</td>\n",
       "      <td>11</td>\n",
       "    </tr>\n",
       "    <tr>\n",
       "      <th>499</th>\n",
       "      <td>2</td>\n",
       "      <td>3</td>\n",
       "      <td>4</td>\n",
       "      <td>1</td>\n",
       "      <td>4</td>\n",
       "      <td>3</td>\n",
       "      <td>6</td>\n",
       "    </tr>\n",
       "  </tbody>\n",
       "</table>\n",
       "<p>176 rows × 7 columns</p>\n",
       "</div>"
      ],
      "text/plain": [
       "     Processor_type  RAM_GB  RAM_type  Disk_Type  Disk_size  OS  \\\n",
       "419               2       3         0          1          3   2   \n",
       "500               2       3         0          1          4   3   \n",
       "339               2       0         0          1          4   3   \n",
       "278               0       3         0          0          0   2   \n",
       "254               2       0         0          1          4   3   \n",
       "..              ...     ...       ...        ...        ...  ..   \n",
       "199               2       3         0          0          0   2   \n",
       "623               2       0         0          1          4   2   \n",
       "432               0       3         0          1          4   3   \n",
       "213               2       3         0          1          4   3   \n",
       "499               2       3         4          1          4   3   \n",
       "\n",
       "     Display_inches  \n",
       "419              11  \n",
       "500              11  \n",
       "339              11  \n",
       "278              11  \n",
       "254               6  \n",
       "..              ...  \n",
       "199              11  \n",
       "623               6  \n",
       "432              11  \n",
       "213              11  \n",
       "499               6  \n",
       "\n",
       "[176 rows x 7 columns]"
      ]
     },
     "execution_count": 78,
     "metadata": {},
     "output_type": "execute_result"
    }
   ],
   "source": [
    "X_test\n"
   ]
  },
  {
   "cell_type": "code",
   "execution_count": 79,
   "id": "c67a341d",
   "metadata": {},
   "outputs": [
    {
     "data": {
      "text/plain": [
       "355     43090.0\n",
       "161    150990.0\n",
       "156     38705.0\n",
       "80     196990.0\n",
       "9       44990.0\n",
       "         ...   \n",
       "591     85990.0\n",
       "55      37499.0\n",
       "357     44990.0\n",
       "81      85990.0\n",
       "530     39990.0\n",
       "Name: MRP, Length: 528, dtype: float64"
      ]
     },
     "execution_count": 79,
     "metadata": {},
     "output_type": "execute_result"
    }
   ],
   "source": [
    "y_train"
   ]
  },
  {
   "cell_type": "code",
   "execution_count": null,
   "id": "7dcc65db",
   "metadata": {},
   "outputs": [],
   "source": []
  },
  {
   "cell_type": "code",
   "execution_count": null,
   "id": "e89b378f",
   "metadata": {},
   "outputs": [],
   "source": []
  },
  {
   "cell_type": "code",
   "execution_count": 80,
   "id": "064ed19e",
   "metadata": {},
   "outputs": [],
   "source": [
    "from sklearn.linear_model import LinearRegression"
   ]
  },
  {
   "cell_type": "code",
   "execution_count": 81,
   "id": "7dedc10e",
   "metadata": {},
   "outputs": [
    {
     "data": {
      "text/plain": [
       "LinearRegression()"
      ]
     },
     "execution_count": 81,
     "metadata": {},
     "output_type": "execute_result"
    }
   ],
   "source": [
    "model = LinearRegression()\n",
    "model.fit(X_train.values, y_train.values)"
   ]
  },
  {
   "cell_type": "code",
   "execution_count": 82,
   "id": "abe94ee2",
   "metadata": {},
   "outputs": [
    {
     "name": "stdout",
     "output_type": "stream",
     "text": [
      "R2 score 0.6417187800333716\n",
      "MAE 24890.816813823905\n"
     ]
    }
   ],
   "source": [
    "from sklearn.metrics import r2_score,mean_absolute_error\n",
    "\n",
    "y_pred = model.predict(X_test.values)\n",
    "\n",
    "print('R2 score',r2_score(y_test,y_pred))\n",
    "print('MAE',mean_absolute_error(y_test,y_pred))"
   ]
  },
  {
   "cell_type": "code",
   "execution_count": 83,
   "id": "98d1b82a",
   "metadata": {},
   "outputs": [
    {
     "data": {
      "text/plain": [
       "156726"
      ]
     },
     "execution_count": 83,
     "metadata": {},
     "output_type": "execute_result"
    }
   ],
   "source": [
    "int(model.predict([[1,0,1,1,0,3,11]]))"
   ]
  },
  {
   "cell_type": "code",
   "execution_count": 84,
   "id": "f6a8795d",
   "metadata": {},
   "outputs": [],
   "source": [
    "import pickle\n",
    "pickle.dump(model, open('model.pkl', 'wb'))"
   ]
  },
  {
   "cell_type": "code",
   "execution_count": 85,
   "id": "8bbb6aeb",
   "metadata": {},
   "outputs": [
    {
     "data": {
      "text/plain": [
       "array([ 75394.09834614,  43839.47481126,  82532.29653643,  64669.92031979,\n",
       "        62275.79432648,  86089.59277177,  39217.67140052,  47396.7710466 ,\n",
       "        39217.67140052,  47396.7710466 , 131914.10382845,  43839.47481126,\n",
       "        44907.42231648,  59474.17361048,  47396.7710466 ,  45192.69934878,\n",
       "        59474.17361048, 158504.74942705, 165042.31691096, 158504.74942705,\n",
       "       148628.38796865, 158504.74942705,  88291.70558786,  86089.59277177,\n",
       "        83344.92064488,  47396.7710466 ,  90140.89321376, 122266.01971738,\n",
       "        82532.29653643, 160991.01646897, 148628.38796865, 131036.9505615 ,\n",
       "        43839.47481126,  47396.7710466 ,  27140.26883665, 148628.38796865,\n",
       "        78723.11723414, 148628.38796865,  62275.79432648, 106378.27000813,\n",
       "        43839.47481126,  43839.47481126,  43839.47481126,  82532.29653643,\n",
       "       131914.10382845,  43839.47481126,  43839.47481126, 250101.6593987 ,\n",
       "        84240.40514587,  43839.47481126,  86089.59277177, 158504.74942705,\n",
       "       129217.83957739,  43839.47481126,  98452.22127209,  39217.67140052,\n",
       "       164548.31270431, 112408.33849874,  39217.67140052,  53753.72911622,\n",
       "       158504.74942705,  47396.7710466 ,  43727.40072597, 148628.38796865,\n",
       "        55137.59613619, 148093.40922724, 158504.74942705,  43839.47481126,\n",
       "       148628.38796865, 148628.38796865,  55137.59613619,  43839.47481126,\n",
       "        43839.47481126,  63316.69578226, 101781.24016009,  83885.52107395,\n",
       "        59474.17361048,  98452.22127209,  82532.29653643, 156730.98885263,\n",
       "        27140.26883665, 158504.74942705,  82532.29653643, 158504.74942705,\n",
       "       164824.83526488, 158504.74942705, 158504.74942705, 101781.24016009,\n",
       "        62275.79432648,  47396.7710466 ,  23582.9726013 , 105598.98876919,\n",
       "        47396.7710466 ,  62275.79432648,  47396.7710466 ,  47396.7710466 ,\n",
       "        47396.7710466 ,  43839.47481126,  86089.59277177,  63031.46984582,\n",
       "        59759.39954692,  86089.59277177,  99805.44580961,  43839.47481126,\n",
       "       154947.45319171, 148628.38796865,  59076.87358875,  47396.7710466 ,\n",
       "        47396.7710466 ,  39217.67140052, 122890.12207431,  47396.7710466 ,\n",
       "       148628.38796865,  43839.47481126, 237204.05215698,  88575.06877505,\n",
       "       140734.51425901,  55137.59613619, 158504.74942705,  47396.7710466 ,\n",
       "        39502.89733697,  47396.7710466 ,  43839.47481126, 148628.38796865,\n",
       "        39217.67140052,  47396.7710466 , 158504.74942705,  59759.39954692,\n",
       "        83344.92064488, 158504.74942705,  64669.92031979,  63316.69578226,\n",
       "       187562.86420182, 158504.74942705,  43839.47481126,  39217.67140052,\n",
       "        47396.7710466 ,  59474.17361048, 148628.38796865,  43839.47481126,\n",
       "       148628.38796865,  39502.89733697,  47396.7710466 ,  82532.29653643,\n",
       "        61112.62408444,  43839.47481126,  59474.17361048, 158504.74942705,\n",
       "        39217.67140052,  74010.23132617, 158504.74942705, 148628.38796865,\n",
       "       158504.74942705,  63316.69578226, 148628.38796865,  49627.88879386,\n",
       "       101781.24016009,  98452.22127209,  43839.47481126,  47396.7710466 ,\n",
       "        47396.7710466 ,  98452.22127209,  47396.7710466 ,  52115.27864225,\n",
       "        27807.47599031,  43839.47481126,  98452.22127209,  65547.81352952,\n",
       "        43839.47481126,  98452.22127209, 164548.31270431,  61112.62408444,\n",
       "        78195.71906214,  47396.7710466 ,  43839.47481126,  63088.41843492])"
      ]
     },
     "execution_count": 85,
     "metadata": {},
     "output_type": "execute_result"
    }
   ],
   "source": [
    "pickled_model = pickle.load(open('model.pkl', 'rb'))\n",
    "pickled_model.predict(X_test.values)"
   ]
  },
  {
   "cell_type": "code",
   "execution_count": 86,
   "id": "66fa150d",
   "metadata": {},
   "outputs": [
    {
     "name": "stdout",
     "output_type": "stream",
     "text": [
      "<class 'pandas.core.frame.DataFrame'>\n",
      "Int64Index: 704 entries, 0 to 719\n",
      "Data columns (total 7 columns):\n",
      " #   Column          Non-Null Count  Dtype\n",
      "---  ------          --------------  -----\n",
      " 0   Processor_type  704 non-null    int32\n",
      " 1   RAM_GB          704 non-null    int32\n",
      " 2   RAM_type        704 non-null    int32\n",
      " 3   Disk_Type       704 non-null    int32\n",
      " 4   Disk_size       704 non-null    int32\n",
      " 5   OS              704 non-null    int32\n",
      " 6   Display_inches  704 non-null    int32\n",
      "dtypes: int32(7)\n",
      "memory usage: 24.8 KB\n"
     ]
    }
   ],
   "source": [
    "X.info()"
   ]
  },
  {
   "cell_type": "code",
   "execution_count": null,
   "id": "8695469f",
   "metadata": {},
   "outputs": [],
   "source": []
  }
 ],
 "metadata": {
  "kernelspec": {
   "display_name": "Python 3 (ipykernel)",
   "language": "python",
   "name": "python3"
  },
  "language_info": {
   "codemirror_mode": {
    "name": "ipython",
    "version": 3
   },
   "file_extension": ".py",
   "mimetype": "text/x-python",
   "name": "python",
   "nbconvert_exporter": "python",
   "pygments_lexer": "ipython3",
   "version": "3.9.13"
  }
 },
 "nbformat": 4,
 "nbformat_minor": 5
}
